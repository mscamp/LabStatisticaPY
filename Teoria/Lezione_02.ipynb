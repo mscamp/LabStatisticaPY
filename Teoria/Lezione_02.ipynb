{
 "cells": [
  {
   "cell_type": "markdown",
   "metadata": {},
   "source": [
    "# Lezione 2 - NumPy e MatplotLib\n",
    "## NumPy\n",
    "NumPy è la libreria fondamentale per il calcolo scientifico in Python. Questa libreria fornisce un oggetto `numpy.ndarray` (sostanzialmente un array multidimensionale), e diversi oggetti derivati come \"masked array\", e un assortimento di funzioni per operazioni con array in modo efficiente. Per iniziare ad usare NumPy, si importa il modulo, solitamente con l'alias np:"
   ]
  },
  {
   "cell_type": "code",
   "execution_count": 50,
   "metadata": {
    "metadata": {}
   },
   "outputs": [],
   "source": [
    "import numpy as np"
   ]
  },
  {
   "cell_type": "markdown",
   "metadata": {},
   "source": [
    "La libreria di NumPy è fondamentalmente un'interfaccia di alto livello ad una libreria scritta in C, quindi è molto veloce in termini di prestazioni rispetto a librerie scritte puramente in Python."
   ]
  },
  {
   "cell_type": "markdown",
   "metadata": {},
   "source": [
    "### Array di NumPy\n",
    "Gli array di NumPy sono oggetti mutabili, cioé possono essere modificati in memoria. E' possibile creare un `numpy.ndarray` in molti modi differenti:\n",
    "* A partire da una lista"
   ]
  },
  {
   "cell_type": "code",
   "execution_count": 51,
   "metadata": {
    "metadata": {}
   },
   "outputs": [
    {
     "name": "stdout",
     "output_type": "stream",
     "text": [
      "[1 2 3 4]\n"
     ]
    }
   ],
   "source": [
    "a_list = [1, 2, 3, 4]\n",
    "a_np_array = np.array(a_list)\n",
    "print(a_np_array)"
   ]
  },
  {
   "cell_type": "markdown",
   "metadata": {},
   "source": [
    "* Generando un array di soli zeri"
   ]
  },
  {
   "cell_type": "code",
   "execution_count": 52,
   "metadata": {
    "metadata": {}
   },
   "outputs": [
    {
     "name": "stdout",
     "output_type": "stream",
     "text": [
      "[0. 0. 0. 0.]\n"
     ]
    }
   ],
   "source": [
    "null_array = np.zeros(4)\n",
    "print(null_array)"
   ]
  },
  {
   "cell_type": "markdown",
   "metadata": {},
   "source": [
    "* Generando un array costituito da elementi vuoti (più veloce dei precedenti, ma non si è certi sul contenuto dell'array)"
   ]
  },
  {
   "cell_type": "code",
   "execution_count": 53,
   "metadata": {
    "metadata": {}
   },
   "outputs": [
    {
     "name": "stdout",
     "output_type": "stream",
     "text": [
      "[0. 0. 0. 0.]\n"
     ]
    }
   ],
   "source": [
    "empty_array = np.empty(4)\n",
    "print(empty_array)"
   ]
  },
  {
   "cell_type": "markdown",
   "metadata": {},
   "source": [
    "* Generando un array di un range di interi (simile a `range()` visto per le liste)"
   ]
  },
  {
   "cell_type": "code",
   "execution_count": 54,
   "metadata": {
    "metadata": {}
   },
   "outputs": [
    {
     "name": "stdout",
     "output_type": "stream",
     "text": [
      "[1 3 5 7 9]\n"
     ]
    }
   ],
   "source": [
    "first = 1\n",
    "last = 11\n",
    "step = 2\n",
    "range_array = np.arange(first, last, step)\n",
    "print(range_array)"
   ]
  },
  {
   "cell_type": "markdown",
   "metadata": {},
   "source": [
    "* Generando un array di valori equamente distanziati in un intervallo specificato"
   ]
  },
  {
   "cell_type": "code",
   "execution_count": 55,
   "metadata": {
    "metadata": {}
   },
   "outputs": [
    {
     "name": "stdout",
     "output_type": "stream",
     "text": [
      "[ 1.          2.11111111  3.22222222  4.33333333  5.44444444  6.55555556\n",
      "  7.66666667  8.77777778  9.88888889 11.        ]\n"
     ]
    }
   ],
   "source": [
    "dim = 10\n",
    "linspace_array = np.linspace(first, last, dim)\n",
    "print(linspace_array)"
   ]
  },
  {
   "cell_type": "markdown",
   "metadata": {},
   "source": [
    "#### NOTA BENE\n",
    "Esiste una differenza fondamentale tra l'oggetto `ndarray` e le `list`: `ndarray` ha una grandezza fissata dopo la dichiarazione; questo non vieta l'aggiunta di nuovi elementi all'array, ma implica tecnicamente che deve essere creato un nuovo array e il precedente deve essere deallocato. Di conseguenza, date le operazioni di gestione della memoria coinvolte quando viene aggiunto un elemento ad un `ndarray`, è buona prassi creare l'array appena prima di usarlo a partire da una lista e riempire la lista al suo posto se si deve ricorrere a dei loop."
   ]
  },
  {
   "cell_type": "markdown",
   "metadata": {},
   "source": [
    "### Operazioni tra array\n",
    "Le operazioni tra array possono essere scritte in forma compatta, rendendole più chiare e al contempo ottenendo tempi di esecuzione più veloci, grazie all'uso di funzioni interne alla libreria ottimizzate per lo scopo. Per esempio, la moltiplicazione elemento per elemento:\n",
    "\n",
    "* Per le liste"
   ]
  },
  {
   "cell_type": "code",
   "execution_count": 56,
   "metadata": {
    "metadata": {}
   },
   "outputs": [
    {
     "name": "stdout",
     "output_type": "stream",
     "text": [
      "[0, 1, 4, 9, 16, 25, 36, 49, 64, 81, 100, 121, 144, 169, 196, 225, 256, 289, 324, 361]\n"
     ]
    }
   ],
   "source": [
    "dim = 20\n",
    "list_a = list(range(dim))\n",
    "list_b = list(range(dim))\n",
    "\n",
    "list_prod = [list_a[i] * list_b[i] for i in range(len(list_a))]\n",
    "print(list_prod)"
   ]
  },
  {
   "cell_type": "markdown",
   "metadata": {},
   "source": [
    "* Per gli array"
   ]
  },
  {
   "cell_type": "code",
   "execution_count": 57,
   "metadata": {
    "metadata": {}
   },
   "outputs": [
    {
     "name": "stdout",
     "output_type": "stream",
     "text": [
      "[  0   1   4   9  16  25  36  49  64  81 100 121 144 169 196 225 256 289\n",
      " 324 361]\n"
     ]
    }
   ],
   "source": [
    "array_a = np.array(list_a) # anche np.arange(dim)\n",
    "array_b = np.array(list_b) # anche np.arange(dim)\n",
    "\n",
    "array_prod = array_a * array_b\n",
    "print(array_prod)"
   ]
  },
  {
   "cell_type": "markdown",
   "metadata": {},
   "source": [
    "### Operazioni sugli array\n",
    "Dato un `ndarray` è possibile svolgere delle operazioni che coinvolgono tutti i suoi elementi, per esempio:\n",
    "* `sum()` somma tutti gli elementi dell'array\n",
    "* `prod()` moltiplica tra loro tutti gli elementi dell'array\n",
    "* `cumsum()` (cumulative sum) calcola per ciascun elemento dell'array la somma di tutti gli elementi che lo precedono\n",
    "* `cumprod()` (cumulative product) calcola per ciascun elemento dell'array il prodotto di tutti gli elementi che lo precedono"
   ]
  },
  {
   "cell_type": "code",
   "execution_count": 58,
   "metadata": {
    "metadata": {}
   },
   "outputs": [
    {
     "name": "stdout",
     "output_type": "stream",
     "text": [
      "[ 1  2  3  4  5  6  7  8  9 10]\n",
      "55\n",
      "3628800\n",
      "[ 1  3  6 10 15 21 28 36 45 55]\n",
      "[      1       2       6      24     120     720    5040   40320  362880\n",
      " 3628800]\n"
     ]
    }
   ],
   "source": [
    "some_array = np.arange(1, 11)\n",
    "print(some_array)\n",
    "print(some_array.sum())\n",
    "print(some_array.prod())\n",
    "print(some_array.cumsum())\n",
    "print(some_array.cumprod())"
   ]
  },
  {
   "cell_type": "markdown",
   "metadata": {},
   "source": [
    "### Array multi-dimensionali"
   ]
  },
  {
   "cell_type": "markdown",
   "metadata": {},
   "source": [
    "Per creare array multi-dimensionali, si deve passare come argomento una lista di liste della stessa dimensione. Ciascuna delle liste rappresenta una riga dell'array"
   ]
  },
  {
   "cell_type": "code",
   "execution_count": 59,
   "metadata": {
    "metadata": {}
   },
   "outputs": [
    {
     "name": "stdout",
     "output_type": "stream",
     "text": [
      "[[1 2 3]\n",
      " [4 5 6]]\n",
      "(2, 3)\n"
     ]
    }
   ],
   "source": [
    "multid_array = np.array([[1, 2, 3], [4, 5, 6]])\n",
    "print(multid_array)\n",
    "print(multid_array.shape) # tupla che contiene le dimensioni dell'array"
   ]
  },
  {
   "cell_type": "markdown",
   "metadata": {},
   "source": [
    "E' anche possibile creare array multi-dimensionali usando `np.zeros()` o `np.ones()`"
   ]
  },
  {
   "cell_type": "code",
   "execution_count": 60,
   "metadata": {
    "metadata": {}
   },
   "outputs": [
    {
     "name": "stdout",
     "output_type": "stream",
     "text": [
      "[0. 0. 0. 0. 0.]\n",
      "[1. 1. 1. 1. 1.]\n"
     ]
    }
   ],
   "source": [
    "dim = 5\n",
    "an_array = np.zeros(dim)\n",
    "a_second_array = np.ones(dim)\n",
    "\n",
    "print(an_array)\n",
    "print(a_second_array)"
   ]
  },
  {
   "cell_type": "markdown",
   "metadata": {},
   "source": [
    "#### NOTA BENE\n",
    "Accedere agli elementi di un array con `A[1, 2]` è più veloce rispetto a `A[1][2]`, perché in quest'ultimo caso viene creato un altro array in memoria."
   ]
  },
  {
   "cell_type": "markdown",
   "metadata": {},
   "source": [
    "### NumPy universal functions\n",
    "Le \"universal functions\" in Python sono implementate in modo simile alle operazioni compatte sugli array, è possibile chiamare le funzioni sull'intero array e il risultato è un array delle funzioni chiamate sui singoli elementi. Per esempio, l'esponenziale di un array è un array che ha per elementi l'esponenziale di ciascun elemento."
   ]
  },
  {
   "cell_type": "markdown",
   "metadata": {},
   "source": [
    "## MatPlotLib\n",
    "MatPlotLib è una libreria di Python utilizzata per plottare grafici, per esempio funzioni e istogrammi. L'oggetto fondamentale della libreria è `matplotlib.pyplot`, che viene importato all'interno del programma con"
   ]
  },
  {
   "cell_type": "code",
   "execution_count": 61,
   "metadata": {
    "metadata": {}
   },
   "outputs": [],
   "source": [
    "from matplotlib import pyplot as plt"
   ]
  },
  {
   "cell_type": "markdown",
   "metadata": {},
   "source": [
    "Quando viene usata la libreria MatPlotLib, due oggetti vengono creati e gestiti da Python:\n",
    "* `matplotlib.axes` viene usato per plottare i dati\n",
    "* `matplotlib.figure` concerne gli aspetti grafici\n",
    "\n",
    "Per creare un'immagine vuota si usa"
   ]
  },
  {
   "cell_type": "code",
   "execution_count": 62,
   "metadata": {
    "metadata": {}
   },
   "outputs": [
    {
     "data": {
      "image/png": "[encoded data removed]",
      "text/plain": [
       "<Figure size 640x480 with 1 Axes>"
      ]
     },
     "metadata": {},
     "output_type": "display_data"
    }
   ],
   "source": [
    "fig, ax = plt.subplots(nrows = 1, ncols = 1)\n",
    "plt.show()"
   ]
  },
  {
   "cell_type": "code",
   "execution_count": 63,
   "metadata": {
    "metadata": {}
   },
   "outputs": [
    {
     "data": {
      "image/png": "[encoded data removed]",
      "text/plain": [
       "<Figure size 640x480 with 4 Axes>"
      ]
     },
     "metadata": {},
     "output_type": "display_data"
    }
   ],
   "source": [
    "fig, ax = plt.subplots(nrows = 2, ncols = 2)\n",
    "plt.show()\n",
    "# plt.savefig(\"example.png\")"
   ]
  },
  {
   "cell_type": "markdown",
   "metadata": {},
   "source": [
    "Per salvare un plot si usa `plt.savefig(\"nomefile.estensione\")`."
   ]
  },
  {
   "cell_type": "markdown",
   "metadata": {},
   "source": [
    "### Plot di funzioni\n",
    "Per plottare una funzione bisogna innanzitutto definire il set dei punti su cui la si vuole calcolare e successivamente calcolare il suo valore puntuale servendosi di universal functions, oppure se non si dispone di una universal function bisogna scrivere un loop"
   ]
  },
  {
   "cell_type": "code",
   "execution_count": 64,
   "metadata": {
    "metadata": {}
   },
   "outputs": [
    {
     "data": {
      "image/png": "[encoded data removed]",
      "text/plain": [
       "<Figure size 640x480 with 1 Axes>"
      ]
     },
     "metadata": {},
     "output_type": "display_data"
    }
   ],
   "source": [
    "# Punti\n",
    "x_coord = np.linspace(0, 2 * np.pi, 10000)\n",
    "y_coord_1 = np.sin(x_coord)\n",
    "y_coord_2 = np.cos(x_coord)\n",
    "\n",
    "# Plot\n",
    "fig, ax = plt.subplots(nrows = 1, ncols = 1)\n",
    "ax.plot(x_coord, y_coord_1, label=\"sin(x)\")\n",
    "ax.plot(x_coord, y_coord_2, label=\"cos(x)\")\n",
    "ax.set_title(\"Comparing trigonometric functions\", size = 14)\n",
    "ax.set_xlabel(\"x\")\n",
    "ax.set_ylabel(\"y\")\n",
    "ax.legend()\n",
    "plt.show()"
   ]
  },
  {
   "cell_type": "markdown",
   "metadata": {},
   "source": [
    "Per una guida più approfondita sulle librerie NumPy e MatPlotLib, guardare la repository GitHub di [Luke Polson](https://github.com/lukepolson)"
   ]
  }
 ],
 "metadata": {
  "kernelspec": {
   "display_name": "labstatistica",
   "language": "python",
   "name": "python3"
  },
  "language_info": {
   "codemirror_mode": {
    "name": "ipython",
    "version": 3
   },
   "file_extension": ".py",
   "mimetype": "text/x-python",
   "name": "python",
   "nbconvert_exporter": "python",
   "pygments_lexer": "ipython3",
   "version": "3.12.3"
  }
 },
 "nbformat": 4,
 "nbformat_minor": 2
}
