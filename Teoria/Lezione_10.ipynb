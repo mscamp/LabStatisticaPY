{
 "cells": [
  {
   "cell_type": "markdown",
   "metadata": {},
   "source": [
    "# Lezione 10 - Stima di parametri con maximum likelihood\n",
    "\n",
    "## Stima di parametri\n",
    "- Spesso l'obiettivo di un esperimento è quello di stimare i parametri di un modello\n",
    "- Per farlo si utilizzano gli stimatori, che sono statistiche, cioé funzioni del campione\n",
    "- Le stime prodotte da uno stimatore sono random variables, perché gli stimatori sono funzioni di numeri casuali (IID). Di conseguenza, gli stimatori hanno una propria PDF, che asintoticamente, cioé per $ N \\to +\\infty $, è una gaussiana\n",
    "\n",
    "Vedremo essenzialmente due metodi per la stima di parametri:\n",
    "- Metodo della maximum likelihood\n",
    "- Fit con minimi quadrati usando la libreria `iminuit`\n",
    "\n",
    "## Maximum likelihood\n",
    "La tecnica della maximum likelihood si basa sull'assunzione che il valore cercato per la stima del parametro corrisponda al valore che massimizza la funzione di likelihood, definita da\n",
    "\n",
    "$$ \\mathcal{L}(\\theta) = \\mathcal{L}(\\theta, \\underline{x}) = f(x_{1}, \\theta) \\times \\ldots \\times f(x_{N}, \\theta) = \\prod_{i = 1}^{N}{f(x_{i}, \\theta)} $$\n",
    "\n",
    "Si cerca quindi il massimo della likelihood\n",
    "\n",
    "$$ \\frac{\\partial \\mathcal{L}(\\theta)}{\\partial \\theta} = 0 $$\n",
    "\n",
    "Secondo considerazioni analoghe a quelle della lezione precedente, si preferisce determinare il massimo della loglikelihood\n",
    "\n",
    "$$ \\frac{\\partial \\mathcal{l}(\\theta)}{\\partial \\theta} = \\frac{\\partial \\log{\\left(\\prod_{i = 1}^{N}{f(x_{i}, \\theta)}\\right)}}{\\partial \\theta} = \\sum_{i = 1}^{N}{\\frac{\\partial \\log{\\left(f(x_{i}, \\theta)\\right)}}{\\partial \\theta}} $$\n",
    "\n",
    "## Incertezza sulla stima del parametro\n",
    "L'incertezza sulla stima di un parametro $ \\hat{\\theta}_{ML} $ determinato tramite maximum likelihood può essere determinata attraverso un metodo grafico:\n",
    "- Si disegna $ \\mathcal{l}(\\theta) $\n",
    "- Si determinano i punti di intersezione tra $ \\mathcal{l}(\\theta) $ e $ y = \\mathcal{l}(\\hat{\\theta}_{ML}) - \\frac{1}{2}$, le cui ascisse saranno $ \\hat{\\theta}_{1} = \\hat{\\theta}_{ML} - \\hat{\\sigma}_{ML} $ e $ \\hat{\\theta}_{2} = \\hat{\\theta}_{ML} + \\hat{\\sigma}_{ML} $\n",
    "- Si ha che $ \\hat{\\sigma}_{ML} = \\frac{1}{2} (\\hat{\\theta}_{2} - \\hat{\\theta}_{1}) $\n",
    "\n",
    "Questo si può ricavare sviluppando con Taylor al secondo ordine la loglikelihood attorno al suo massimo. In modo analogo si possono calcolare gli zeri della funzione\n",
    "\n",
    "$$ \\mathcal{h}(\\theta) = \\mathcal{l}(\\theta) - \\mathcal{l}(\\hat{\\theta}_{ML}) + \\frac{1}{2} $$\n",
    "\n",
    "Come si può osservare dall'immagine seguente, con l'aumentare del numero di eventi, l'incertezza sulla stima del parametro diminuisce, dal momento che la loglikelihood diventa più stretta. Asintoticamente la loglikelihood è simmetrica rispetto al suo massimo ed è parabolica (rispecchia il fatto che la PDF dello stimatore è asintoticamente una gaussiana)\n",
    "\n",
    "<div align=\"center\">\n",
    "<img src=\"Pictures/loglikelihood_profile.png\" alt=\"loglikelihood\">\n",
    "</div>\n",
    "\n",
    "## Proprietà degli stimatori ML\n",
    "Gli stimatori maximum likelihood godono delle seguenti proprietà:\n",
    "- Sono consistenti\n",
    "- Sono asintoticamente non distorti (unbiased)\n",
    "- Sono asintoticamente efficienti\n",
    "\n",
    "## Distribuzione di probabilità di uno stimatore\n",
    "La distribuzione di probabilità di uno stimatore può essere ricostruita utilizzando la tecnica dei toy experiment:\n",
    "- Per ciascuno dei toy experiment si determina la stima del parametro cercata con il metodo di maximum likelihood\n",
    "- Si raccolgono le stime in una lista\n",
    "- Si genera un istogramma a partire dalle stime raccolte"
   ]
  }
 ],
 "metadata": {
  "kernelspec": {
   "display_name": "labstatistica",
   "language": "python",
   "name": "python3"
  },
  "language_info": {
   "name": "python",
   "version": "3.12.3"
  }
 },
 "nbformat": 4,
 "nbformat_minor": 2
}
