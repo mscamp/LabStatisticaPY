{
 "cells": [
  {
   "cell_type": "markdown",
   "metadata": {},
   "source": [
    "# Lezione 7 - La distribuzione di Poisson\n",
    "\n",
    "## Eventi poissoniani\n",
    "Un processo fisico produce eventi casuali distribuiti nel tempo con distribuzione poissoniana se:\n",
    "- Gli eventi sono tra loro indipendenti\n",
    "- La probabilità che un evento accada non dipende dall'istante in cui si effettua la misurazione, cioé la frequenza media con cui avvengono gli eventi è costante\n",
    "\n",
    "## Forma funzionale della PMF di Poisson\n",
    "In questo caso la probabilità è data dalla PMF (Probability Mass Function)\n",
    "$$ P(n; \\tau, p) = e^{-\\tau p} \\frac{(\\tau p)^{n}}{n!} $$\n",
    "\n",
    "## Generazione di eventi poissoniani\n",
    "Gli intervalli temporali tra due eventi successivi seguono la distribuzione esponenziale, perciò per generare eventi casuali distribuiti secondo Poisson:\n",
    "- Si generano eventi distribuiti secondo un'esponenziale con tempo caratteristico $ t_0 $ unitario, utilizzando il metodo della funzione inversa\n",
    "- Si contano quanti eventi cadono in uno specifico intervallo $ \\tau $ scelto con ampiezza $ \\lambda $, dove $ \\lambda $ è la media della poissoniana che si vuole generare"
   ]
  }
 ],
 "metadata": {
  "kernelspec": {
   "display_name": "labstatistica",
   "language": "python",
   "name": "python3"
  },
  "language_info": {
   "name": "python",
   "version": "3.12.3"
  }
 },
 "nbformat": 4,
 "nbformat_minor": 2
}
