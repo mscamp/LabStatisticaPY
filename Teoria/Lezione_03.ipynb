{
 "cells": [
  {
   "cell_type": "markdown",
   "metadata": {},
   "source": [
    "# Lezione 3 - Visualizzazione dati e integrali "
   ]
  },
  {
   "cell_type": "code",
   "execution_count": 59,
   "metadata": {},
   "outputs": [],
   "source": [
    "import numpy as np\n",
    "from matplotlib import pyplot as plt\n",
    "from scipy.stats import norm\n",
    "from scipy.integrate import quad\n",
    "import math"
   ]
  },
  {
   "cell_type": "markdown",
   "metadata": {},
   "source": [
    "## Leggere e scrivere dati su file di testo\n",
    "Ci sono due modalità per scrivere/leggere su file: un modo è scrivere testo, l'altro è scrivere binario. Scrivere un file di testo è preferibile, perché è human-readable. D'altra parte, scrivere su un file in binario significa sostanzialmente trascrivere il contenuto della memoria su un file così come si presenta, non è comprensibile all'uomo e bisogna dire al computer come interpretare il file binario, ma è più \"compatto\" di un file testuale, occupa meno spazio. E' preferibile usare il binario solo in presenza di una grande quantità di dati per velocizzarne la lettura/scrittura (libreria `pickle`)\n",
    "\n",
    "### Scrivere informazioni\n",
    "Per scrivere dati su un file di testo:"
   ]
  },
  {
   "cell_type": "code",
   "execution_count": 32,
   "metadata": {},
   "outputs": [],
   "source": [
    "sample = [1.1, 2.2, 3.3, 4.4, 5.5]\n",
    "\n",
    "with open(\"some.txt\", \"w\") as output_file:\n",
    "    for item in sample:\n",
    "        output_file.write(str(item) + '\\n')"
   ]
  },
  {
   "cell_type": "markdown",
   "metadata": {},
   "source": [
    "Funziona anche con numpy array, tuple e dict. Bisogna pensare alla keyword `with` come un blocco di codice che esegue solo se la funzione `open()` esegue con successo. L'altro vantaggio è che usando questa sintassi, alla fine del `with` il file viene chiuso automaticamente, senza dover usare `output_file.close()`. Per leggere un file di testo, invece"
   ]
  },
  {
   "cell_type": "code",
   "execution_count": 33,
   "metadata": {},
   "outputs": [
    {
     "name": "stdout",
     "output_type": "stream",
     "text": [
      "['1.1\\n', '2.2\\n', '3.3\\n', '4.4\\n', '5.5\\n']\n",
      "[1.1, 2.2, 3.3, 4.4, 5.5]\n"
     ]
    }
   ],
   "source": [
    "read_sample = []\n",
    "\n",
    "with open(\"some.txt\") as input_file:\n",
    "    lines = input_file.readlines()\n",
    "    print(lines) # Non necessario\n",
    "    for line in lines:\n",
    "        read_sample.append(float(line))\n",
    "\n",
    "print(read_sample)"
   ]
  },
  {
   "cell_type": "markdown",
   "metadata": {},
   "source": [
    "Alternativamente, usando una notazione compatta"
   ]
  },
  {
   "cell_type": "code",
   "execution_count": 34,
   "metadata": {},
   "outputs": [
    {
     "name": "stdout",
     "output_type": "stream",
     "text": [
      "[1.1, 2.2, 3.3, 4.4, 5.5]\n"
     ]
    }
   ],
   "source": [
    "with open(\"some.txt\") as input_file:\n",
    "    read_sample = [float(line) for line in input_file.readlines()]\n",
    "\n",
    "print(read_sample)"
   ]
  },
  {
   "cell_type": "markdown",
   "metadata": {},
   "source": [
    "Alternativamente esiste una funzione built-in di NumPy per leggere un file di testo e inserire i dati all'interno di un NumPy array"
   ]
  },
  {
   "cell_type": "code",
   "execution_count": 35,
   "metadata": {},
   "outputs": [
    {
     "name": "stdout",
     "output_type": "stream",
     "text": [
      "[1.1 2.2 3.3 4.4 5.5]\n"
     ]
    }
   ],
   "source": [
    "read_sample = np.loadtxt(\"some.txt\")\n",
    "print(read_sample)"
   ]
  },
  {
   "cell_type": "markdown",
   "metadata": {},
   "source": [
    "## Istogrammi in MatPlotLib\n",
    "Per disegnare un istogramma in Python, il modo più semplice è"
   ]
  },
  {
   "cell_type": "code",
   "execution_count": 36,
   "metadata": {},
   "outputs": [
    {
     "data": {
      "text/plain": [
       "(array([1., 0., 1., 0., 1., 0., 0., 1., 0., 1.]),\n",
       " array([1.1 , 1.54, 1.98, 2.42, 2.86, 3.3 , 3.74, 4.18, 4.62, 5.06, 5.5 ]),\n",
       " <BarContainer object of 10 artists>)"
      ]
     },
     "execution_count": 36,
     "metadata": {},
     "output_type": "execute_result"
    },
    {
     "data": {
      "image/png": "[encoded data removed]",
      "text/plain": [
       "<Figure size 640x480 with 1 Axes>"
      ]
     },
     "metadata": {},
     "output_type": "display_data"
    }
   ],
   "source": [
    "fig, ax = plt.subplots(nrows = 1, ncols = 1)\n",
    "ax.hist(sample, color = \"orange\")"
   ]
  },
  {
   "cell_type": "markdown",
   "metadata": {},
   "source": [
    "In questo caso l'intervallo di rappresentazione e la suddivisione in bin sono scelti automaticamente dalla funzione `hist()`. Noi però vogliamo impostarli manualmente, questo si fa con"
   ]
  },
  {
   "cell_type": "code",
   "execution_count": 37,
   "metadata": {},
   "outputs": [
    {
     "data": {
      "text/plain": [
       "(array([1., 1., 2., 1.]),\n",
       " array([0. , 1.5, 3. , 4.5, 6. ]),\n",
       " <BarContainer object of 4 artists>)"
      ]
     },
     "execution_count": 37,
     "metadata": {},
     "output_type": "execute_result"
    },
    {
     "data": {
      "image/png": "[encoded data removed]",
      "text/plain": [
       "<Figure size 640x480 with 1 Axes>"
      ]
     },
     "metadata": {},
     "output_type": "display_data"
    }
   ],
   "source": [
    "x_min = 0.0\n",
    "x_max = 6.0\n",
    "n_bins = 5\n",
    "\n",
    "bin_edges = np.linspace(x_min, x_max, n_bins)\n",
    "fig, ax = plt.subplots(nrows = 1, ncols = 1)\n",
    "ax.hist(sample, bins = bin_edges, color = \"orange\")"
   ]
  },
  {
   "cell_type": "markdown",
   "metadata": {},
   "source": [
    "### Numero di bin\n",
    "Il numero di bin deve sempre essere adattato in base alla grandezza del campione.\n",
    "- Se il numero di eventi aumenta è preferibile aumentare il numero di bin\n",
    "- Se il numero di eventi diminuisce è preferibile diminuire il numero di bin, ma bisogna stare attenti a non perdere troppa informazione, perché diminuendo il numero di bin inevitabilmente si perde la forma della distribuzione\n",
    "\n",
    "Non esistono regole assolute per determinare il numero di bin ottimale in ogni caso, ma varia di esperimento in esperimento. Esiste una rule-of-thumb detta regola di Sturges, che in molti casi è ragionevole"
   ]
  },
  {
   "cell_type": "code",
   "execution_count": 38,
   "metadata": {},
   "outputs": [],
   "source": [
    "def sturges(n_events):\n",
    "    return int(np.ceil(1 + 3.322 * np.log(n_events)))\n",
    "\n",
    "n_bins = sturges(len(sample))\n",
    "bin_edges = np.linspace(x_min, x_max, n_bins)"
   ]
  },
  {
   "cell_type": "markdown",
   "metadata": {},
   "source": [
    "### Scala logaritmica\n",
    "Quando i valori in diversi bin cambiano drasticamente tra loro può essere conveniente visualizzare l'istogramma usando una scala logaritmica sull'asse delle ordinate"
   ]
  },
  {
   "cell_type": "code",
   "execution_count": 39,
   "metadata": {},
   "outputs": [
    {
     "data": {
      "image/png": "[encoded data removed]",
      "text/plain": [
       "<Figure size 640x480 with 1 Axes>"
      ]
     },
     "metadata": {},
     "output_type": "display_data"
    }
   ],
   "source": [
    "x_min = 0.0\n",
    "x_max = 6.0\n",
    "n_bins = 5\n",
    "\n",
    "bin_edges = np.linspace(x_min, x_max, n_bins)\n",
    "fig, ax = plt.subplots(nrows = 1, ncols = 1)\n",
    "ax.hist(sample, bins = bin_edges, color = \"orange\")\n",
    "ax.set_yscale(\"log\")"
   ]
  },
  {
   "cell_type": "markdown",
   "metadata": {},
   "source": [
    "## Calcolare e rappresentare momenti del campione\n",
    "### Media\n",
    "Per calcolare la media campionaria"
   ]
  },
  {
   "cell_type": "code",
   "execution_count": 42,
   "metadata": {},
   "outputs": [
    {
     "data": {
      "text/plain": [
       "[<matplotlib.lines.Line2D at 0x7b7dcad996a0>]"
      ]
     },
     "execution_count": 42,
     "metadata": {},
     "output_type": "execute_result"
    },
    {
     "data": {
      "image/png": "[encoded data removed]",
      "text/plain": [
       "<Figure size 640x480 with 1 Axes>"
      ]
     },
     "metadata": {},
     "output_type": "display_data"
    }
   ],
   "source": [
    "media = sum(sample) / len(sample)\n",
    "\n",
    "x_min = 0.0\n",
    "x_max = 6.0\n",
    "n_bins = 5\n",
    "\n",
    "bin_edges = np.linspace(x_min, x_max, n_bins)\n",
    "fig, ax = plt.subplots(nrows = 1, ncols = 1)\n",
    "ax.hist(sample, bins = bin_edges, color = \"orange\")\n",
    "ax.set_xlabel(\"variabile\")\n",
    "ax.set_ylabel(\"eventi per bin\")\n",
    "\n",
    "# Plot della media del campione\n",
    "vertical_limits = ax.get_ylim()\n",
    "ax.plot([media, media], vertical_limits, color = \"blue\")"
   ]
  },
  {
   "cell_type": "markdown",
   "metadata": {},
   "source": [
    "Lo stesso vale per tutti gli altri momenti (varianza, skewness, kurtosi, ...)\n",
    "\n",
    "## Distribuzioni con SciPy\n",
    "\n",
    "### Probability Distribution Functions (PDF)\n",
    "PDF notevoli esistono come funzioni già implementate nella libreria `scipy`, la lista completa può essere consultata sulla [documentazione scipy](https://docs.scipy.org/doc/scipy/reference/stats.html#module-scipy.stats). Tutte le distribuzioni continue accettano come parametri le keyword `loc` e `scale`, per impostare la posizione e la scala della distribuzione. Per esempio, nella gaussiana `loc` è la media e `scale` è la deviazione standard.\n"
   ]
  },
  {
   "cell_type": "code",
   "execution_count": 46,
   "metadata": {},
   "outputs": [
    {
     "name": "stdout",
     "output_type": "stream",
     "text": [
      "0.704130653528599\n"
     ]
    }
   ],
   "source": [
    "media = 1.0\n",
    "sigma = 0.5\n",
    "x = (media + sigma) * 0.5\n",
    "print(norm.pdf(x, media, sigma)) # Il metodo pdf() serve per accedere al valore della pdf in un punto"
   ]
  },
  {
   "cell_type": "markdown",
   "metadata": {},
   "source": [
    "E' inoltre possibile fissare una volta per tutte i parametri della pdf nel modo seguente"
   ]
  },
  {
   "cell_type": "code",
   "execution_count": 48,
   "metadata": {},
   "outputs": [
    {
     "name": "stdout",
     "output_type": "stream",
     "text": [
      "0.704130653528599\n"
     ]
    }
   ],
   "source": [
    "norm_fixed = norm(media, sigma)\n",
    "print(norm_fixed.pdf(x))"
   ]
  },
  {
   "cell_type": "markdown",
   "metadata": {},
   "source": [
    "Nota bene: per le PDF discrete, per esempio la binomiale, si deve usare il metodo `pmf()` invece di `pdf()`.\n",
    "\n",
    "### Cumulative Distribution Functions (CDF)\n",
    "Per ottenere la CDF associata si usa `norm.cdf(x, loc, scale)`"
   ]
  },
  {
   "cell_type": "code",
   "execution_count": 49,
   "metadata": {},
   "outputs": [
    {
     "name": "stdout",
     "output_type": "stream",
     "text": [
      "0.3085375387259869\n"
     ]
    }
   ],
   "source": [
    "print(norm.cdf(x, media, sigma))"
   ]
  },
  {
   "cell_type": "markdown",
   "metadata": {},
   "source": [
    "### Momenti di una PDF\n",
    "E' possibile calcolare i momenti della pdf in questione usando un metodo built-in di SciPy"
   ]
  },
  {
   "cell_type": "code",
   "execution_count": 50,
   "metadata": {},
   "outputs": [
    {
     "name": "stdout",
     "output_type": "stream",
     "text": [
      "1.0 0.25 0.0 0.0\n"
     ]
    }
   ],
   "source": [
    "media, varianza, skew, kurt = norm_fixed.stats(moments = \"mvsk\")\n",
    "print(media, varianza, skew, kurt)"
   ]
  },
  {
   "cell_type": "markdown",
   "metadata": {},
   "source": [
    "## Integrali di funzioni con SciPy\n",
    "La libreria `scipy` contiene anche funzioni utili per il calcolo numerico di integrali. La funzione `quad()` calcola un integrale definito data una funzione e un intervallo di integrazione"
   ]
  },
  {
   "cell_type": "code",
   "execution_count": 54,
   "metadata": {},
   "outputs": [],
   "source": [
    "# Intervallo\n",
    "a = 0.0\n",
    "b = 4.0\n",
    "\n",
    "# Funzione\n",
    "def f(x):\n",
    "    return x**2 + x + 1"
   ]
  },
  {
   "cell_type": "code",
   "execution_count": 55,
   "metadata": {},
   "outputs": [
    {
     "name": "stdout",
     "output_type": "stream",
     "text": [
      "Integrale di f: 33.33333333333333\n",
      "Stima dell'errore: 3.700743415417188e-13\n"
     ]
    }
   ],
   "source": [
    "integrale = quad(f, a, b)\n",
    "print(\"Integrale di f: \" + str(integrale[0]))\n",
    "print(\"Stima dell'errore: \" + str(integrale[1]))"
   ]
  },
  {
   "cell_type": "markdown",
   "metadata": {},
   "source": [
    "Per integrare su intervalli illimitati si usa `np.inf`"
   ]
  },
  {
   "cell_type": "code",
   "execution_count": 60,
   "metadata": {},
   "outputs": [],
   "source": [
    "# Intervallo\n",
    "a = 0.0\n",
    "b = np.inf\n",
    "\n",
    "# Funzione\n",
    "def f(x):\n",
    "    return np.exp(-x)"
   ]
  },
  {
   "cell_type": "code",
   "execution_count": 61,
   "metadata": {},
   "outputs": [
    {
     "name": "stdout",
     "output_type": "stream",
     "text": [
      "Integrale di f: 1.0000000000000002\n",
      "Stima dell'errore: 5.842606742906004e-11\n"
     ]
    }
   ],
   "source": [
    "integrale = quad(f, a, b)\n",
    "print(\"Integrale di f: \" + str(integrale[0]))\n",
    "print(\"Stima dell'errore: \" + str(integrale[1]))"
   ]
  }
 ],
 "metadata": {
  "kernelspec": {
   "display_name": "labstatistica",
   "language": "python",
   "name": "python3"
  },
  "language_info": {
   "codemirror_mode": {
    "name": "ipython",
    "version": 3
   },
   "file_extension": ".py",
   "mimetype": "text/x-python",
   "name": "python",
   "nbconvert_exporter": "python",
   "pygments_lexer": "ipython3",
   "version": "3.12.3"
  }
 },
 "nbformat": 4,
 "nbformat_minor": 2
}
