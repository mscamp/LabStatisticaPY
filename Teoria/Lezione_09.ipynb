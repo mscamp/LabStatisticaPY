{
 "cells": [
  {
   "cell_type": "markdown",
   "metadata": {},
   "source": [
    "# Lezione 9 - Likelihood\n",
    "\n",
    "## Funzione di likelihood\n",
    "Tutta l'informazione che caratterizza un esperimento, che comprende sia le assunzioni teoriche che le misure effettuate, è codificata nella likelihood (verosimiglianza), definita come il prodotto dei valori della pdf calcolati in corrispondenza di ciascuna delle misure effettuate $ x_{i} $ (IID).\n",
    "\n",
    "$$ \\mathcal{L}(\\theta) = \\mathcal{L}(\\theta, \\underline{x}) = f(x_{1}, \\theta) \\times \\ldots \\times f(x_{N}, \\theta) = \\prod_{i = 1}^{N}{f(x_{i}, \\theta)} $$\n",
    "\n",
    "In altre parole, la likelihood è la joint-pdf delle misure vista come funzione sia di queste ultime che dei parametri; tuttavia, di solito si usa fissare un set di misure ed evidenziare la dipendenza dai parametri, come nel metodo di maximum likelihood per la stima di parametri.\n",
    "\n",
    "## Modello e dati\n",
    "- Un **modello** è una distribuzione di probabilità $ f $ o una legge $ g $ a cui ci si aspetta che obbediscano le misure sperimentali\n",
    "- Le **misure** sono variabili rispetto alle quali dipende il modello\n",
    "- Le quantità da cui dipende il modello che non vengono misurate si dicono **parametri**\n",
    "\n",
    "## Il logaritmo della funzione likelihood (loglikelihood)\n",
    "Nella maggior parte dei casi si preferisce utilizzare il logaritmo della funzione likelihood invece della funzione stessa\n",
    "\n",
    "$$ \\mathcal{l}(\\theta) = \\log{\\mathcal{L}(\\theta)} $$\n",
    "\n",
    "Infatti:\n",
    "- Dal momento che il logaritmo è una funzione strettamente crescente, il massimo della funzione likelihood coincide con il massimo della loglikelihood (utile per il metodo di maximum likelihood)\n",
    "- Il logaritmo di un numero è più piccolo del numero stesso e varia su un intervallo più piccolo rispetto alla variazione del numero stesso, quindi le operazioni con i logaritmi sono in generale numericamente più stabili\n",
    "- Si può passare dal logaritmo del prodotto delle PDF alla somma dei logaritmi delle PDF\n",
    "\n",
    "$$ \\mathcal{l}(\\theta) = \\log{\\left(\\mathcal{L}(\\theta, \\underline{x})\\right)} = \\log{\\left(\\prod_{i = 1}^{N}{f(x_{i}, \\theta)}\\right)} = \\sum_{i = 1}^{N}{\\log{\\left(f(x_{i}, \\theta)\\right)}} $$\n",
    "\n",
    "Questo è preferibile perché invece di applicare il logaritmo alla fine, dopo aver moltiplicato tra loro numeri \"grandi\", si sommano i logaritmi dei numeri, che sono numeri \"piccoli\", quindi il risultato è più preciso."
   ]
  }
 ],
 "metadata": {
  "language_info": {
   "name": "python"
  }
 },
 "nbformat": 4,
 "nbformat_minor": 2
}
