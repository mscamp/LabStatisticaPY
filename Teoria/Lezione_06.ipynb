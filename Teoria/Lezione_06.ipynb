{
 "cells": [
  {
   "cell_type": "markdown",
   "metadata": {},
   "source": [
    "# Lezione 6 - Zeri ed estremanti di funzioni\n",
    "Nota bene: \n",
    "- Gli algoritmi per cercare zeri ed estremanti di funzioni devono essere costruiti in modo che il programma valuti la funzione nel minor numero possibile di punti, infatti il calcolatore non \"vede\" la funzione globalmente ma puntualmente. \n",
    "- Ovviamente si cerca di lavorare con funzioni abbastanza regolari, non patologiche; se ci si trova davanti a problemi più complessi si cerca di ridurli in problemi più semplici per i quali sia possibile applicare questi algoritmi, altrimenti si cerca di sviluppare algoritmi più generici (sconsigliato in generale). \n",
    "- Infine, data l'impossibilità del calcolatore di descrivere un continuo, necessariamente l'algoritmo dovrà fornire un intervallo in cui si è sicuri di trovare il punto e calcolare in modo **approssimato** lo zero o l'estremante, fornendo anche un'incertezza associata al valore calcolato.\n",
    "\n",
    "## Zeri di funzioni\n",
    "Le assunzioni di lavoro sono:\n",
    "- $ g(x) $ è una funzione continua definita su un intervallo compatto e connesso $ [x_0, x_1] $\n",
    "- Il segno di $ g(x_0) $ è opposto a quello di $ g(x_1) $\n",
    "- La funzione presenta un solo zero nell'intervallo $ [x_0, x_1] $\n",
    "\n",
    "### Metodo di bisezione\n",
    "L'algoritmo di bisezione serve a determinare lo zero di una funzione in un intervallo, restringendo iterativamente tale intervallo finché la sua ampiezza diventa minore di un valore fissato, detto precisione. Nello specifico, l'algoritmo controlla se i valori della funzione agli estremi abbiano segno opposto, e in tal caso restringe l'intervallo, usando come nuovo estremo il punto medio dell'intervallo precedente. Si implementa come segue"
   ]
  },
  {
   "cell_type": "code",
   "execution_count": 7,
   "metadata": {},
   "outputs": [],
   "source": [
    "def bisezione(g, x_min: float, x_max: float, precision: float = 0.0001) -> float:\n",
    "    \"\"\" Calcola lo zero di una funzione in un dato intervallo usando il metodo di bisezione \"\"\"\n",
    "\n",
    "    # Controllo argomenti passati\n",
    "    if (x_max - x_min) <= 0:\n",
    "        raise ValueError(\"x_max deve essere strettamente maggiore di x_min\")\n",
    "\n",
    "    if precision <= 0:\n",
    "        raise ValueError(\"La precisione deve essere strettamente maggiore di zero\")\n",
    "\n",
    "    # Caso banale\n",
    "    if g(x_min) == 0:\n",
    "        return x_min\n",
    "\n",
    "    elif g(x_max) == 0:\n",
    "        return x_max\n",
    "\n",
    "    # Algoritmo\n",
    "    x_mean: float = x_min \n",
    "\n",
    "    while (x_max - x_min) > precision:\n",
    "        x_mean: float = 0.5 * (x_max + x_min)\n",
    "\n",
    "        if g(x_mean) * g(x_min) > 0.0:\n",
    "            x_min: float = x_mean\n",
    "        \n",
    "        else:\n",
    "            x_max: float = x_mean\n",
    "\n",
    "    return x_mean"
   ]
  },
  {
   "cell_type": "code",
   "execution_count": 8,
   "metadata": {},
   "outputs": [
    {
     "name": "stdout",
     "output_type": "stream",
     "text": [
      "Zero di g: 0.9999847412109375\n"
     ]
    }
   ],
   "source": [
    "# Esempio\n",
    "def g(x: float):\n",
    "    return 1.0 - x\n",
    "\n",
    "x_min = -10.0\n",
    "x_max = 10.0\n",
    "zero = bisezione(g, x_min, x_max)\n",
    "\n",
    "print(f\"Zero di g: {zero}\")"
   ]
  },
  {
   "cell_type": "markdown",
   "metadata": {},
   "source": [
    "E' anche possibile un'implementazione ricorsiva:"
   ]
  },
  {
   "cell_type": "code",
   "execution_count": 16,
   "metadata": {},
   "outputs": [],
   "source": [
    "def bisezione_ricorsiva(g, x_min: float, x_max: float, precision: float = 0.0001) -> float:\n",
    "    \"\"\" Calcola lo zero di una funzione in un dato intervallo usando il metodo di bisezione \"\"\"\n",
    "    \n",
    "    # Controllo argomenti passati\n",
    "    if (x_max - x_min) <= 0:\n",
    "        raise ValueError(\"x_max deve essere strettamente maggiore di x_min\")\n",
    "\n",
    "    if precision <= 0:\n",
    "        raise ValueError(\"La precisione deve essere strettamente maggiore di zero\")\n",
    "\n",
    "    # Caso banale\n",
    "    if g(x_min) == 0:\n",
    "        return x_min\n",
    "\n",
    "    elif g(x_max) == 0:\n",
    "        return x_max\n",
    "\n",
    "    x_mean: float = 0.5 * (x_max + x_min)\n",
    "\n",
    "    # Condizione di arresto\n",
    "    if (x_max - x_min) < precision:\n",
    "        return x_mean\n",
    "\n",
    "    # Algoritmo\n",
    "    if g(x_mean) * g(x_min) > 0.0:\n",
    "        return bisezione_ricorsiva(g, x_mean, x_max, precision)\n",
    "\n",
    "    else:\n",
    "        return bisezione_ricorsiva(g, x_min, x_mean, precision)"
   ]
  },
  {
   "cell_type": "code",
   "execution_count": 17,
   "metadata": {},
   "outputs": [
    {
     "name": "stdout",
     "output_type": "stream",
     "text": [
      "Zero di g: 1.0000228881835938\n"
     ]
    }
   ],
   "source": [
    "zero = bisezione_ricorsiva(g, x_min, x_max)\n",
    "\n",
    "print(f\"Zero di g: {zero}\")"
   ]
  },
  {
   "cell_type": "markdown",
   "metadata": {},
   "source": [
    "## Punti di estremo\n",
    "Si assume che:\n",
    "- $ g(x) $ è una funzione continua definita su un intervallo compatto e connesso $ [x_0, x_1] $\n",
    "- La funzione presenta un solo estremante nell'intervallo $ [x_0, x_1] $\n",
    "\n",
    "### Metodo del rapporto aureo\n",
    "Anche in questo caso si restringe l'intervallo fino ad individuare il punto di estremo, con la differenza che in questo caso servono quattro punti, che dividono l'intervallo originale in tre parti. Per ottimizzare il calcolo, i punti $ x_2 $ e $ x_3 $ sono scelti in modo da poter essere riutilizzati nell'iterazione successiva, mantenendo gli stessi rapporti di lunghezza tra gli intervalli\n",
    "\n",
    "<div align=\"center\">\n",
    "<img src=\"Pictures/sezione_aurea_pendenza.png\" width=\"550\" height=\"350\" alt=\"sezione_aurea_1\">\n",
    "<img src=\"Pictures/sezione_aurea_r.png\" width=\"550\" height=\"350\" alt=\"sezione_aurea_2\">\n",
    "</div>\n",
    "\n",
    "Per farlo, si impone\n",
    "\n",
    "$$ \\frac{1 - r}{r} = \\frac{r}{1} \\implies r^2 + r - 1 \\implies r = \\frac{\\sqrt{5} - 1}{2} \\simeq 0.618 $$\n",
    "\n",
    "Anche il metodo del rapporto aureo ammette un'implementazione ricorsiva."
   ]
  }
 ],
 "metadata": {
  "kernelspec": {
   "display_name": "labstatistica",
   "language": "python",
   "name": "python3"
  },
  "language_info": {
   "codemirror_mode": {
    "name": "ipython",
    "version": 3
   },
   "file_extension": ".py",
   "mimetype": "text/x-python",
   "name": "python",
   "nbconvert_exporter": "python",
   "pygments_lexer": "ipython3",
   "version": "3.12.3"
  }
 },
 "nbformat": 4,
 "nbformat_minor": 2
}
