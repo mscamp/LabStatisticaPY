{
 "cells": [
  {
   "cell_type": "markdown",
   "metadata": {},
   "source": [
    "# Lezione 5 - Programmazione orientata agli oggetti e lambda functions\n",
    "## Classi e oggetti in Python\n",
    "Una classe è sostanzialmente la generalizzazione del concetto di tipo di dato: è un modo per creare oggetti che racchiudono al loro interno le variabili che li definiscono (detti membri della classe) e le funzioni (dette metodi della classe) che determinano il loro comportamento e le operazioni che è possibile svolgere con essi. In Python, ogni cosa è un oggetto, derivato da una certa classe. Dunque, una classe è costituita da:\n",
    "\n",
    "- costruttore: funzione che \"costruisce\" l'oggetto quando viene inizializzato\n",
    "- membri: tutte le variabili che costituiscono l'oggetto\n",
    "- metodi: funzioni che operano sull'oggetto e ne determinano il comportamento\n",
    "\n",
    "Il vantaggio principale di questo paradigma di programmazione è che permette di avere un design migliore rispetto al paradigma funzionale, perché tutto è racchiuso negli oggetti, incluso il loro comportamento (per esempio, non è necessario scrivere una funzione esterna che operi sull'oggetto se questa si trova già al suo interno). Altri vantaggi sono l'estensibilità e la semplificazione del codice."
   ]
  },
  {
   "cell_type": "code",
   "execution_count": null,
   "metadata": {},
   "outputs": [],
   "source": [
    "# Esempio di classe\n",
    "from math import gcd\n",
    "\n",
    "class Fraction:\n",
    "    \"\"\" Classe per gestire operazioni tra frazioni \"\"\"\n",
    "\n",
    "    # Costruttore\n",
    "    def __init__(self, numerator, denominator):\n",
    "        if denominator == 0:\n",
    "          raise ValueError(\"Il denominatore non può essere nullo\") # ValueError exception\n",
    "\n",
    "        if type(numerator) != int:\n",
    "          raise TypeError(\"Il numeratore deve essere un intero\") # TypeError exception\n",
    "\n",
    "        if type(denominator) != int:\n",
    "          raise TypeError(\"Il denominatore deve essere un intero\") # TypeError exception\n",
    "        \n",
    "        # Membri\n",
    "        common_divisor = gcd(numerator, denominator) # greatest common divisor \n",
    "        self.numerator = numerator // common_divisor # integer division with floor division\n",
    "        self.denominator = int(denominator / common_divisor) # integer division with casting\n",
    "        \n",
    "    # Metodi\n",
    "    def print(self):\n",
    "        \"\"\" Stampa la frazione a schermo \"\"\"\n",
    "        print(f\"{self.numerator}/{self.denominator}\")\n",
    "\n",
    "    frac_1 = Fraction(3, 4)\n",
    "    frac_1.print()"
   ]
  },
  {
   "cell_type": "markdown",
   "metadata": {},
   "source": [
    "### La keyword 'self'\n",
    "La keyword `self` identifica l'oggetto stesso. Un oggetto è infatti sempre considerato un argomento implicito dei metodi della classe e del costruttore, passato come primo argomento. I membri della classe vengono identificati con `self.membro`.\n",
    "\n",
    "## Overloading di operatori\n",
    "- Tornando all'esempio della classe `Fraction`, questa descrive il campo dei numeri razionali; si rende necessario ridefinire le operazioni di somma, sottrazione, moltiplicazione, divisione in modo che si comportino bene con l'oggetto in questione.\n",
    "- La sintassi di Python permette di ridefinire il comportamento dei simboli +, -, *, / (etc) per gli oggetti costruiti a partire dalla classe `Fraction`. Tale procedimento è detto overloading di operatori."
   ]
  },
  {
   "cell_type": "markdown",
   "metadata": {},
   "source": [
    "#### Esempio\n",
    "\n",
    "```Python\n",
    "def __add__(self, other):\n",
    "    \"\"\" Implementa la somma di due frazioni, può essere chiamata usando '+' \"\"\"\n",
    "    new_numerator = self.numerator * other.denominator + other.numerator * self.denominator\n",
    "    new_denominator = self.denominator * other.denominator\n",
    "    return Fraction (new_numerator, new_denominator)\n",
    "  \n",
    "def __sub__(self, other): \n",
    "    # the - operator ...\n",
    "  \n",
    "def __mul__(self, other):\n",
    "    # the * operator ...\n",
    "  \n",
    "def __truediv__(self, other):\n",
    "    # the / operator ...\n",
    "```"
   ]
  },
  {
   "cell_type": "markdown",
   "metadata": {},
   "source": [
    "## 'lambda' functions\n",
    "La keyword `lambda` permette di definire funzioni direttamente dove dovrebbero essere utilizzate. Questo si basa sul fatto che anche le funzioni in Python sono considerate oggetti, perché è possibile anche assegnare una lambda function ad una variabile."
   ]
  },
  {
   "cell_type": "code",
   "execution_count": null,
   "metadata": {},
   "outputs": [],
   "source": [
    "# Esempio: senza lambda function\n",
    "def square(x: int) -> int:\n",
    "    return x**2\n",
    "\n",
    "num: int = 10\n",
    "print(str(square(num)))"
   ]
  },
  {
   "cell_type": "code",
   "execution_count": null,
   "metadata": {},
   "outputs": [],
   "source": [
    "# Esempio: con lambda function\n",
    "print(str((lambda x : x**2)(num)))"
   ]
  },
  {
   "cell_type": "code",
   "execution_count": null,
   "metadata": {},
   "outputs": [],
   "source": [
    "# Esempio: con lambda function assegnata ad una variabile\n",
    "num_squared = lambda x : x**2\n",
    "print(num_squared(num))"
   ]
  },
  {
   "cell_type": "markdown",
   "metadata": {},
   "source": [
    "### Perché usare le lambda functions\n",
    "La domanda è: perché? Da una parte perché Python è un linguaggio di scripting, se si sta scrivendo uno script allora può essere utile usare le lambda functions, dall'altra perché in questo modo si vede immediatamente cosa fa la funzione.\n",
    "\n",
    "## Functional programming\n",
    "Quando si usano liste e altri container, Python offre dei modi per agire direttamente sul contenitore, costruendo automaticamente loop ottimizzati. Due esempi sono `map` e `filter`. In questo contesto risultano particolarmente utili le lambda functions.\n",
    "\n",
    "### map()\n",
    "La funzione built-in `map()` applica una funzione passata per argomento a tutti gli elementi di una lista. Per esempio"
   ]
  },
  {
   "cell_type": "code",
   "execution_count": null,
   "metadata": {},
   "outputs": [],
   "source": [
    "# Senza lambda functions\n",
    "my_list: list[int] = list(range(-5, 5))\n",
    "squared_list: list[int] = list(map(square, my_list))\n",
    "\n",
    "print(my_list)\n",
    "print(squared_list)"
   ]
  },
  {
   "cell_type": "code",
   "execution_count": null,
   "metadata": {},
   "outputs": [],
   "source": [
    "# Con lambda functions\n",
    "squared_list: list[int] = list(map(lambda x : x**2, my_list))\n",
    "print(squared_list)"
   ]
  },
  {
   "cell_type": "markdown",
   "metadata": {},
   "source": [
    "### filter()\n",
    "La funzione built-in `filter()` applica una funzione passata per argomento a tutti gli elementi di una lista e restituisce una lista con gli elementi per cui la funzione restituisce `True`. Per esempio"
   ]
  },
  {
   "cell_type": "code",
   "execution_count": null,
   "metadata": {},
   "outputs": [],
   "source": [
    "my_list_2: list[int] = list(filter(lambda x : x % 2 == 0, my_list))\n",
    "print(my_list_2)"
   ]
  }
 ],
 "metadata": {
  "kernelspec": {
   "display_name": "labstatistica",
   "language": "python",
   "name": "python3"
  },
  "language_info": {
   "codemirror_mode": {
    "name": "ipython",
    "version": 3
   },
   "file_extension": ".py",
   "mimetype": "text/x-python",
   "name": "python",
   "nbconvert_exporter": "python",
   "pygments_lexer": "ipython3",
   "version": "3.12.3"
  }
 },
 "nbformat": 4,
 "nbformat_minor": 2
}
