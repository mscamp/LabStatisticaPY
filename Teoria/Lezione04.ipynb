{
 "cells": [
  {
   "cell_type": "markdown",
   "metadata": {},
   "source": [
    "# Lezione 4 - Generazione di numeri pseudo-casuali\n",
    "## Generatore lineare congruenziale\n",
    "$$ x_{n+1} = (A \\cdot x_{n} + C) \\mod M $$\n",
    "\n",
    "con \n",
    "$$ M > 0 $$ \n",
    "$$ 0 < A < M $$ \n",
    "$$ 0 < x_{0} < M $$\n",
    "$$ M \\sim 10^{32} $$\n",
    "\n",
    "Si tratta di un esempio di formula ricorsiva per calcolare il numero successivo in una sequenza di numeri pseudo-casuali dato un numero della sequenza. E' un esempio storico, esistono ovviamente generatori pseudo-random più sofisticati.\n",
    "\n",
    "## Libreria random\n",
    "La libreria `random` di Python contiene un generatore di numeri pseudo-casuali `random()`"
   ]
  },
  {
   "cell_type": "code",
   "execution_count": 7,
   "metadata": {},
   "outputs": [
    {
     "name": "stdout",
     "output_type": "stream",
     "text": [
      "1 numero: 0.10636209341028924\n",
      "2 numero: 0.8305194858702567\n",
      "3 numero: 0.17082047801572575\n",
      "4 numero: 0.22851870040785782\n",
      "5 numero: 0.16892373273349592\n"
     ]
    }
   ],
   "source": [
    "import random\n",
    "\n",
    "rand_list: list[float] = []\n",
    "\n",
    "for i in range(5):\n",
    "    rand_list.append(random.random())\n",
    "    print(f\"{i+1} numero: {rand_list[-1]}\")"
   ]
  },
  {
   "cell_type": "markdown",
   "metadata": {},
   "source": [
    "Il metodo `random.random()` genera numeri pseudo-casuali distribuiti uniformemente nell'intervallo $ [0, 1] $. Il seed usato di default si basa sul tempo del sistema operativo. Per impostare il seed, si usa\n",
    "``` Python\n",
    "random.seed(seed)\n",
    "```\n",
    "E' importante poter riprodurre la stessa sequenza di numeri pseudo-random per questioni legate al testing. A meno che ci siano motivi validi per fare altrimenti, il seed viene inizializzato solo una volta all'interno del programma. E' anche possibile generare numeri pseudo-casuali interi, utilizzando il metodo `random.randint()`"
   ]
  },
  {
   "cell_type": "code",
   "execution_count": 18,
   "metadata": {},
   "outputs": [
    {
     "name": "stdout",
     "output_type": "stream",
     "text": [
      "1 numero: 1\n",
      "2 numero: 4\n",
      "3 numero: 3\n",
      "4 numero: 4\n",
      "5 numero: 5\n"
     ]
    }
   ],
   "source": [
    "# Simulazione del lancio di un dado\n",
    "rand_list_int: list[int] = []\n",
    "\n",
    "for i in range(5):\n",
    "    rand_list_int.append(random.randint(1, 6))\n",
    "    print(f\"{i+1} numero: {rand_list_int[-1]}\")"
   ]
  },
  {
   "cell_type": "markdown",
   "metadata": {},
   "source": [
    "## Generazione di numeri pseudo-casuali distribuiti uniformemente con la libreria random\n",
    "Si utilizza il metodo `rand_range()`, definito come segue"
   ]
  },
  {
   "cell_type": "code",
   "execution_count": 37,
   "metadata": {},
   "outputs": [
    {
     "name": "stdout",
     "output_type": "stream",
     "text": [
      "Numero tra 5 e 10: 7.776136206077283\n"
     ]
    }
   ],
   "source": [
    "def rand_range(x_min: float, x_max: float) -> float:\n",
    "    \"\"\" Genera un numero pseudo-casuale distribuito uniformemente nell'intervallo di estremi x_min e x_max \"\"\"\n",
    "\n",
    "    return x_min + ((x_max - x_min) * random.random())\n",
    "\n",
    "# Esempio\n",
    "x_min = 5.0\n",
    "x_max = 10.0\n",
    "\n",
    "num = rand_range(x_min, x_max)\n",
    "print(f\"Numero tra {x_min} e {x_max}: {num}\")"
   ]
  },
  {
   "cell_type": "markdown",
   "metadata": {},
   "source": [
    "## Metodo Try-And-Catch (TAC)\n",
    "Il metodo TAC viene utilizzato per generare sequenze di numeri pseudo-casuali distribuiti secondo una qualunque PDF, a partire da due sequenze di numeri pseudo-casuali distribuiti uniformemente. L'idea è quella di generare numeri pseudo-casuali in modo proporzionale all'area sottesa dalla PDF, cioè il suo integrale (che rappresenta una probabilità). Si popola il piano con coppie di numeri pseudo-casuali distribuiti uniformemente $ (x, y) $, generati utilizzando la funzione `rand_range()` e si aggiunge $ x $ alla sequenza solo se $ y < f(x) $, cioè solo se $ x $ cade all'interno dell'area della PDF."
   ]
  },
  {
   "cell_type": "code",
   "execution_count": 56,
   "metadata": {},
   "outputs": [
    {
     "name": "stdout",
     "output_type": "stream",
     "text": [
      "Numero gaussiano: -0.22616452970680312\n"
     ]
    }
   ],
   "source": [
    "def rand_TAC(f, x_min: float, x_max: float, y_max: float) -> float:\n",
    "    \"\"\" Genera un numero pseudo-casuale distribuito secondo la PDF \"f\" nell'intervallo di estremi x_min e x_max \"\"\"\n",
    "\n",
    "    x = rand_range(x_min, x_max)\n",
    "    y = rand_range(0, y_max)\n",
    "\n",
    "    while y > f(x):\n",
    "        x = rand_range(x_min, x_max)\n",
    "        y = rand_range(0, y_max)\n",
    "\n",
    "    return x\n",
    "\n",
    "# Esempio: numero casuale con distribuzione gaussiana\n",
    "from scipy.stats import norm\n",
    "\n",
    "media = 0.0\n",
    "sigma = 0.5\n",
    "gauss = norm(media, sigma)\n",
    "x_coord = np.linspace(-100, 100, 1000000)\n",
    "\n",
    "gauss_num = rand_TAC(gauss.pdf, -sigma, sigma, gauss.pdf(0))\n",
    "print(f\"Numero gaussiano: {gauss_num}\")"
   ]
  },
  {
   "cell_type": "markdown",
   "metadata": {},
   "source": [
    "## Metodo della funzione inversa\n",
    "Conoscendo la forma analitica di una PDF $ f(x) $ e la forma analitica della sua primitiva $ F(x) $, cioè la CDF, è possibile generare numeri pseudo-casuali distribuiti secondo $ f(x) $ a partire da numeri pseudo-casuali con distribuzione uniforme. Tuttavia, questo è possibile solo se la cumulativa $ F(x) $ è invertibile. I passaggi sono i seguenti:\n",
    "\n",
    "- Si determina la forma funzionale di $ F(x) $\n",
    "- Si determina la forma funzionale dell'inversa $ x = F^{-1}(y) $ e si usa $ x $ come numero pseudo-random distribuito secondo $ f(x) $\n",
    "\n",
    "Si osserva che questo è possibile perché dove $ f(x) $ è più alta, si ha che $ F(x) $ è più pendente (essendo $ f $ la derivata di $ F $), perciò il numero di numeri pseudo-casuali generati in un intervallo $ \\Delta y $ risulta proporzionale all'area sottesa dalla curva $ f(x) $ sopra l'intervallo di ampiezza $ \\Delta x $."
   ]
  },
  {
   "cell_type": "markdown",
   "metadata": {},
   "source": [
    "## Teorema centrale del limite\n",
    "- Si parte da una sequenza di N numeri casuali distribuiti uniformemente\n",
    "- Si calcola la media $ \\bar{x} $, che sarà distribuita secondo una distribuzione che approssima una gaussiana sempre meglio al crescere di N\n",
    "- Per $ N \\to \\infty $ si ottiene una distribuzione gaussiana"
   ]
  }
 ],
 "metadata": {
  "kernelspec": {
   "display_name": "labstatistica",
   "language": "python",
   "name": "python3"
  },
  "language_info": {
   "codemirror_mode": {
    "name": "ipython",
    "version": 3
   },
   "file_extension": ".py",
   "mimetype": "text/x-python",
   "name": "python",
   "nbconvert_exporter": "python",
   "pygments_lexer": "ipython3",
   "version": "3.12.3"
  }
 },
 "nbformat": 4,
 "nbformat_minor": 2
}
