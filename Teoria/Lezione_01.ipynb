{
 "cells": [
  {
   "cell_type": "markdown",
   "metadata": {},
   "source": [
    "# Lezione 1 - Introduzione a Python\n",
    "## Caratteristiche di Python\n",
    "* Linguaggio high-level: maggiore astrazione rispetto ad un linguaggio di basso livello come C, C++ o Assembly\n",
    "* Linguaggio interpretato\n",
    "* Linguaggio object-oriented\n",
    "* Disponibilità di librerie\n",
    "* Facilità di utilizzo\n",
    "## Differenze tra Python e C/C++\n",
    "* No punto e virgola ; alla fine della riga\n",
    "* No parentesi graffe per delimitare uno scope, per farlo si usa invece l'indentazione\n",
    "* Essendo un linguaggio interpretato, è dotato di una shell (per fare calcoli o test veloci)\n",
    "* Le variabili si inizializzano senza dichiararne il tipo \"a priori\". Come ovviare al fatto che i tipi sono implicitamente definiti? Scrivendo nomi di variabili autoesplicativi.\n",
    "## Tipi di dato in Python\n",
    "* Integer: `a = 1`\n",
    "* Float: `a = 5.312`\n",
    "* Complex: `a = 3 + 2j`\n",
    "* Bool: `a = True`\n",
    "* String: `a = \"hello world\"`\n",
    "### Casting\n",
    "Il casting in Python si fa nel modo seguente"
   ]
  },
  {
   "cell_type": "code",
   "execution_count": 1,
   "metadata": {
    "metadata": {}
   },
   "outputs": [
    {
     "data": {
      "text/plain": [
       "complex"
      ]
     },
     "execution_count": 1,
     "metadata": {},
     "output_type": "execute_result"
    }
   ],
   "source": [
    "a = complex(4,3)\n",
    "type(a)"
   ]
  },
  {
   "cell_type": "markdown",
   "metadata": {},
   "source": [
    "Questo vale analogamente per gli altri tipi di dato."
   ]
  },
  {
   "cell_type": "markdown",
   "metadata": {},
   "source": [
    "### Numeri complessi\n",
    "Per la parte reale e immaginaria di un numero complesso (sono float)"
   ]
  },
  {
   "cell_type": "code",
   "execution_count": 2,
   "metadata": {
    "metadata": {}
   },
   "outputs": [
    {
     "name": "stdout",
     "output_type": "stream",
     "text": [
      "a = 4.0 + 3.0j\n",
      "<class 'float'>\n",
      "<class 'float'>\n"
     ]
    }
   ],
   "source": [
    "re = a.real\n",
    "im = a.imag\n",
    "print(f'a = {re} + {im}j')\n",
    "print(type(re))\n",
    "print(type(im))"
   ]
  },
  {
   "cell_type": "markdown",
   "metadata": {},
   "source": [
    "### Stringhe\n",
    "Si possono scrivere sia con '' che con \"\". Si possono concatenare come su C++"
   ]
  },
  {
   "cell_type": "markdown",
   "metadata": {},
   "source": [
    "### None\n",
    "Il valore `Null` rappresenta in Python una variabile a cui non è assegnato alcun valore. E' diverso da tutti gli altri tipi, per esempio non è né `True`, né `False`. Indica che un oggetto non è definito e quindi non occupa spazio in memoria. Qualunque operazione tra un oggetto `None` e un altro oggetto restituisce inevitabilmente un errore."
   ]
  },
  {
   "cell_type": "markdown",
   "metadata": {},
   "source": [
    "### Contenitori in Python\n",
    "* List: ordinata, modificabile, ammette duplicati, non necessariamente deve contenere elementi dello stesso tipo, gli elementi hanno un indice.\n",
    "* Tuple: ordinata, non modificabile, ammette duplicati, gli elementi hanno un indice\n",
    "* Set: non ordinato, non modificabile, non ammette duplicati \n",
    "* Dictionary: collezione di coppie `key:value`, ordinate secondo la `key`, modificabile, non ammette duplicati (non ammette elementi con la stessa chiave, ma è possibile avere elementi con chiavi diverse ma stesso contenuto)"
   ]
  },
  {
   "cell_type": "code",
   "execution_count": 3,
   "metadata": {
    "metadata": {}
   },
   "outputs": [
    {
     "name": "stdout",
     "output_type": "stream",
     "text": [
      "[1, 2, 3, 3, 2, 1]\n",
      "(1, 2, 3, 2)\n",
      "{1, 2, 3}\n",
      "{1: 'ciao', 2: 56, 3: 'banana'}\n"
     ]
    }
   ],
   "source": [
    "lista = [1, 2, 3, 3, 2, 1]\n",
    "tupla = (1, 2, 3, 2)\n",
    "insieme = {1, 2, 3, 2}\n",
    "dictionary = {1:'ciao', 2:56, 3:'banana'}\n",
    "\n",
    "type(lista)\n",
    "type(tupla)\n",
    "type(insieme)\n",
    "type(dictionary)\n",
    "print(lista)\n",
    "print(tupla)\n",
    "print(insieme)\n",
    "print(dictionary)"
   ]
  },
  {
   "cell_type": "markdown",
   "metadata": {},
   "source": [
    "Per aggiungere un elemento a una lista si usa `append`:"
   ]
  },
  {
   "cell_type": "code",
   "execution_count": 4,
   "metadata": {
    "metadata": {}
   },
   "outputs": [
    {
     "name": "stdout",
     "output_type": "stream",
     "text": [
      "[1, 2, 3, 3, 2, 1]\n",
      "[1, 2, 3, 3, 2, 1, 'ciao']\n"
     ]
    }
   ],
   "source": [
    "print(lista)\n",
    "lista.append('ciao')\n",
    "print(lista)"
   ]
  },
  {
   "cell_type": "markdown",
   "metadata": {
    "metadata": {}
   },
   "source": [
    "Per iterare su una lista"
   ]
  },
  {
   "cell_type": "code",
   "execution_count": 5,
   "metadata": {
    "metadata": {}
   },
   "outputs": [
    {
     "name": "stdout",
     "output_type": "stream",
     "text": [
      "1\n",
      "2\n",
      "3\n",
      "3\n",
      "2\n",
      "1\n",
      "ciao\n"
     ]
    }
   ],
   "source": [
    "for element in lista:\n",
    "    print(element)"
   ]
  },
  {
   "cell_type": "markdown",
   "metadata": {},
   "source": [
    "Per iterare su un dizionario, si può scegliere se farlo sulla `key` o sulla `value`:"
   ]
  },
  {
   "cell_type": "code",
   "execution_count": 6,
   "metadata": {
    "metadata": {}
   },
   "outputs": [
    {
     "name": "stdout",
     "output_type": "stream",
     "text": [
      "1 ciao\n",
      "2 56\n",
      "3 banana\n"
     ]
    }
   ],
   "source": [
    "for key in dictionary:\n",
    "    print(key, dictionary[key])"
   ]
  },
  {
   "cell_type": "markdown",
   "metadata": {},
   "source": [
    "## Gestione della memoria\n",
    "Quando viene creata una nuova variabile, concettualmente si verificano tre operazioni\n",
    "* Viene creato un oggetto in memoria per contenere il valore assegnato\n",
    "* Viene creata la variabile in Python, se non è già esistente\n",
    "* Viene \"linkata\" la variabile all'oggetto\n",
    "Quindi, di fatto, le variabili in Python sono referenze all'oggetto effettivamente salvato in memoria:\n",
    "* gli oggetti immutabili (int, float, bool, string, tuple) non possono essere modificati una volta definiti, quando compiamo questa operazione in realtà Python sta creando una nuova variabile\n",
    "* gli oggetti mutabili (list, set, classi definite dall'utente, dict) possono essere invece modificati una volta definiti. \n",
    "Per questo motivo, è preferibile utilizzare oggetti mutabili, perché rendono più veloce il programma"
   ]
  },
  {
   "cell_type": "markdown",
   "metadata": {},
   "source": [
    "## Funzioni\n",
    "Le funzioni sono una collezione di istruzioni racchiusa in uno scope, a cui viene assegnato un nome, che producono un dato output, cioé hanno un tipo di ritorno, oppure non hanno un tipo di ritorno e semplicemente performano delle istruzioni. Per definire una funzione si usa la keyword `def`. Una peculiarità delle funzioni in Python è che possono ritornare più di un valore, all'interno di una tupla. "
   ]
  },
  {
   "cell_type": "code",
   "execution_count": 7,
   "metadata": {
    "metadata": {}
   },
   "outputs": [
    {
     "data": {
      "text/plain": [
       "14"
      ]
     },
     "execution_count": 7,
     "metadata": {},
     "output_type": "execute_result"
    }
   ],
   "source": [
    "def raddoppia(num): \n",
    "    return num*2\n",
    "raddoppia(7)"
   ]
  },
  {
   "cell_type": "code",
   "execution_count": 8,
   "metadata": {
    "metadata": {}
   },
   "outputs": [
    {
     "data": {
      "text/plain": [
       "(25, 125, 625)"
      ]
     },
     "execution_count": 8,
     "metadata": {},
     "output_type": "execute_result"
    }
   ],
   "source": [
    "def quadratocuboquarta(num):\n",
    "    return num**2, num**3, num**4\n",
    "quadratocuboquarta(5)"
   ]
  },
  {
   "cell_type": "markdown",
   "metadata": {},
   "source": [
    "### Equivalente di main() in python\n",
    "```python\n",
    "def main():\n",
    "    # Il tuo codice\n",
    "    return\n",
    "\n",
    "if __name__ == \"__main__\":\n",
    "    main()\n",
    "```"
   ]
  },
  {
   "cell_type": "markdown",
   "metadata": {},
   "source": [
    "### Documentazione delle funzioni\n",
    "Scrivendo un commento subito sotto l'intestazione della funzione questo viene inteso come descrizione della funzione (fondamentale). Usando la funzione `help()` è possibile stampare a schermo la descrizione di una funzione."
   ]
  },
  {
   "cell_type": "code",
   "execution_count": 9,
   "metadata": {
    "metadata": {}
   },
   "outputs": [
    {
     "name": "stdout",
     "output_type": "stream",
     "text": [
      "Help on function quadrato in module __main__:\n",
      "\n",
      "quadrato(x)\n",
      "    Descrizione:\n",
      "        Calcola il quadrato di un numero\n",
      "\n",
      "    Argomenti:\n",
      "        x (float): un numero\n",
      "\n",
      "    Tipo di ritorno:\n",
      "        (float): il quadrato di x\n",
      "\n"
     ]
    }
   ],
   "source": [
    "def quadrato(x):\n",
    "    ''' \n",
    "        Descrizione:\n",
    "            Calcola il quadrato di un numero \n",
    "\n",
    "        Argomenti:\n",
    "            x (float): un numero\n",
    "\n",
    "        Tipo di ritorno: \n",
    "            (float): il quadrato di x\n",
    "    '''\n",
    "    return x**2\n",
    "help(quadrato)"
   ]
  },
  {
   "cell_type": "markdown",
   "metadata": {},
   "source": [
    "### Variabili globali e locali\n",
    "Le variabili definite all'interno dello scope di una funzione, dette locali, non sono accessibili al di fuori dello scope a meno che non siano dichiarate tramite la keyword `global`."
   ]
  },
  {
   "cell_type": "markdown",
   "metadata": {},
   "source": [
    "## Modules (librerie)\n",
    "Le librerie si importano con `import`. La libreria sys serve per leggere argomenti passati da riga di comando\n",
    "```python\n",
    "import sys\n",
    "\n",
    "def quadrato(x):\n",
    "    return x**2\n",
    "\n",
    "if __name__ == \"__main__\": \n",
    "\n",
    "    if len(sys.argv) < 2:\n",
    "        sys.exit(1)\n",
    "\n",
    "    num = float(sys.argv[1])\n",
    "    print(\"Il quadrato di \" + str(num) + \"è: \" + str(quadrato(num)))\n",
    "```"
   ]
  }
 ],
 "metadata": {
  "kernelspec": {
   "display_name": "labstatistica",
   "language": "python",
   "name": "python3"
  },
  "language_info": {
   "codemirror_mode": {
    "name": "ipython",
    "version": 3
   },
   "file_extension": ".py",
   "mimetype": "text/x-python",
   "name": "python",
   "nbconvert_exporter": "python",
   "pygments_lexer": "ipython3",
   "version": "3.12.3"
  }
 },
 "nbformat": 4,
 "nbformat_minor": 2
}
